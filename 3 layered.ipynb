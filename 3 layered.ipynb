{
 "cells": [
  {
   "cell_type": "code",
   "execution_count": 1,
   "id": "beb44bd7",
   "metadata": {},
   "outputs": [],
   "source": [
    "import pandas as pd\n",
    "import numpy as np\n",
    "from matplotlib import pyplot as plt"
   ]
  },
  {
   "cell_type": "code",
   "execution_count": 2,
   "id": "5245b3dc",
   "metadata": {},
   "outputs": [],
   "source": [
    "data = pd.read_csv('Desktop/Mnist/train.csv')"
   ]
  },
  {
   "cell_type": "code",
   "execution_count": 3,
   "id": "2bd4ca86",
   "metadata": {},
   "outputs": [
    {
     "data": {
      "text/html": [
       "<div>\n",
       "<style scoped>\n",
       "    .dataframe tbody tr th:only-of-type {\n",
       "        vertical-align: middle;\n",
       "    }\n",
       "\n",
       "    .dataframe tbody tr th {\n",
       "        vertical-align: top;\n",
       "    }\n",
       "\n",
       "    .dataframe thead th {\n",
       "        text-align: right;\n",
       "    }\n",
       "</style>\n",
       "<table border=\"1\" class=\"dataframe\">\n",
       "  <thead>\n",
       "    <tr style=\"text-align: right;\">\n",
       "      <th></th>\n",
       "      <th>label</th>\n",
       "      <th>pixel0</th>\n",
       "      <th>pixel1</th>\n",
       "      <th>pixel2</th>\n",
       "      <th>pixel3</th>\n",
       "      <th>pixel4</th>\n",
       "      <th>pixel5</th>\n",
       "      <th>pixel6</th>\n",
       "      <th>pixel7</th>\n",
       "      <th>pixel8</th>\n",
       "      <th>...</th>\n",
       "      <th>pixel774</th>\n",
       "      <th>pixel775</th>\n",
       "      <th>pixel776</th>\n",
       "      <th>pixel777</th>\n",
       "      <th>pixel778</th>\n",
       "      <th>pixel779</th>\n",
       "      <th>pixel780</th>\n",
       "      <th>pixel781</th>\n",
       "      <th>pixel782</th>\n",
       "      <th>pixel783</th>\n",
       "    </tr>\n",
       "  </thead>\n",
       "  <tbody>\n",
       "    <tr>\n",
       "      <th>0</th>\n",
       "      <td>1</td>\n",
       "      <td>0</td>\n",
       "      <td>0</td>\n",
       "      <td>0</td>\n",
       "      <td>0</td>\n",
       "      <td>0</td>\n",
       "      <td>0</td>\n",
       "      <td>0</td>\n",
       "      <td>0</td>\n",
       "      <td>0</td>\n",
       "      <td>...</td>\n",
       "      <td>0</td>\n",
       "      <td>0</td>\n",
       "      <td>0</td>\n",
       "      <td>0</td>\n",
       "      <td>0</td>\n",
       "      <td>0</td>\n",
       "      <td>0</td>\n",
       "      <td>0</td>\n",
       "      <td>0</td>\n",
       "      <td>0</td>\n",
       "    </tr>\n",
       "    <tr>\n",
       "      <th>1</th>\n",
       "      <td>0</td>\n",
       "      <td>0</td>\n",
       "      <td>0</td>\n",
       "      <td>0</td>\n",
       "      <td>0</td>\n",
       "      <td>0</td>\n",
       "      <td>0</td>\n",
       "      <td>0</td>\n",
       "      <td>0</td>\n",
       "      <td>0</td>\n",
       "      <td>...</td>\n",
       "      <td>0</td>\n",
       "      <td>0</td>\n",
       "      <td>0</td>\n",
       "      <td>0</td>\n",
       "      <td>0</td>\n",
       "      <td>0</td>\n",
       "      <td>0</td>\n",
       "      <td>0</td>\n",
       "      <td>0</td>\n",
       "      <td>0</td>\n",
       "    </tr>\n",
       "    <tr>\n",
       "      <th>2</th>\n",
       "      <td>1</td>\n",
       "      <td>0</td>\n",
       "      <td>0</td>\n",
       "      <td>0</td>\n",
       "      <td>0</td>\n",
       "      <td>0</td>\n",
       "      <td>0</td>\n",
       "      <td>0</td>\n",
       "      <td>0</td>\n",
       "      <td>0</td>\n",
       "      <td>...</td>\n",
       "      <td>0</td>\n",
       "      <td>0</td>\n",
       "      <td>0</td>\n",
       "      <td>0</td>\n",
       "      <td>0</td>\n",
       "      <td>0</td>\n",
       "      <td>0</td>\n",
       "      <td>0</td>\n",
       "      <td>0</td>\n",
       "      <td>0</td>\n",
       "    </tr>\n",
       "    <tr>\n",
       "      <th>3</th>\n",
       "      <td>4</td>\n",
       "      <td>0</td>\n",
       "      <td>0</td>\n",
       "      <td>0</td>\n",
       "      <td>0</td>\n",
       "      <td>0</td>\n",
       "      <td>0</td>\n",
       "      <td>0</td>\n",
       "      <td>0</td>\n",
       "      <td>0</td>\n",
       "      <td>...</td>\n",
       "      <td>0</td>\n",
       "      <td>0</td>\n",
       "      <td>0</td>\n",
       "      <td>0</td>\n",
       "      <td>0</td>\n",
       "      <td>0</td>\n",
       "      <td>0</td>\n",
       "      <td>0</td>\n",
       "      <td>0</td>\n",
       "      <td>0</td>\n",
       "    </tr>\n",
       "    <tr>\n",
       "      <th>4</th>\n",
       "      <td>0</td>\n",
       "      <td>0</td>\n",
       "      <td>0</td>\n",
       "      <td>0</td>\n",
       "      <td>0</td>\n",
       "      <td>0</td>\n",
       "      <td>0</td>\n",
       "      <td>0</td>\n",
       "      <td>0</td>\n",
       "      <td>0</td>\n",
       "      <td>...</td>\n",
       "      <td>0</td>\n",
       "      <td>0</td>\n",
       "      <td>0</td>\n",
       "      <td>0</td>\n",
       "      <td>0</td>\n",
       "      <td>0</td>\n",
       "      <td>0</td>\n",
       "      <td>0</td>\n",
       "      <td>0</td>\n",
       "      <td>0</td>\n",
       "    </tr>\n",
       "  </tbody>\n",
       "</table>\n",
       "<p>5 rows × 785 columns</p>\n",
       "</div>"
      ],
      "text/plain": [
       "   label  pixel0  pixel1  pixel2  pixel3  pixel4  pixel5  pixel6  pixel7  \\\n",
       "0      1       0       0       0       0       0       0       0       0   \n",
       "1      0       0       0       0       0       0       0       0       0   \n",
       "2      1       0       0       0       0       0       0       0       0   \n",
       "3      4       0       0       0       0       0       0       0       0   \n",
       "4      0       0       0       0       0       0       0       0       0   \n",
       "\n",
       "   pixel8  ...  pixel774  pixel775  pixel776  pixel777  pixel778  pixel779  \\\n",
       "0       0  ...         0         0         0         0         0         0   \n",
       "1       0  ...         0         0         0         0         0         0   \n",
       "2       0  ...         0         0         0         0         0         0   \n",
       "3       0  ...         0         0         0         0         0         0   \n",
       "4       0  ...         0         0         0         0         0         0   \n",
       "\n",
       "   pixel780  pixel781  pixel782  pixel783  \n",
       "0         0         0         0         0  \n",
       "1         0         0         0         0  \n",
       "2         0         0         0         0  \n",
       "3         0         0         0         0  \n",
       "4         0         0         0         0  \n",
       "\n",
       "[5 rows x 785 columns]"
      ]
     },
     "execution_count": 3,
     "metadata": {},
     "output_type": "execute_result"
    }
   ],
   "source": [
    "data.head()"
   ]
  },
  {
   "cell_type": "code",
   "execution_count": 4,
   "id": "3450f820",
   "metadata": {},
   "outputs": [],
   "source": [
    "data = np.array(data)"
   ]
  },
  {
   "cell_type": "code",
   "execution_count": 5,
   "id": "b50d0f21",
   "metadata": {},
   "outputs": [
    {
     "name": "stdout",
     "output_type": "stream",
     "text": [
      "42000 785\n"
     ]
    }
   ],
   "source": [
    "m,n = data.shape\n",
    "print(m,n)"
   ]
  },
  {
   "cell_type": "code",
   "execution_count": 6,
   "id": "49b61a1d",
   "metadata": {},
   "outputs": [],
   "source": [
    "data_dev = data[0:1000].T\n",
    "Y_dev = data_dev[0]\n",
    "X_dev = data_dev[1:n]\n",
    "\n",
    "data_train = data[1000:m].T\n",
    "Y_train = data_train[0]\n",
    "X_train = data_train[1:n]"
   ]
  },
  {
   "cell_type": "code",
   "execution_count": 7,
   "id": "48283fb0",
   "metadata": {},
   "outputs": [
    {
     "data": {
      "text/plain": [
       "(41000,)"
      ]
     },
     "execution_count": 7,
     "metadata": {},
     "output_type": "execute_result"
    }
   ],
   "source": [
    "X_train[0].shape"
   ]
  },
  {
   "cell_type": "code",
   "execution_count": 8,
   "id": "b596ece8",
   "metadata": {},
   "outputs": [],
   "source": [
    "layers_dims = [784,10,5,10]"
   ]
  },
  {
   "cell_type": "code",
   "execution_count": 9,
   "id": "535c92b7",
   "metadata": {},
   "outputs": [],
   "source": [
    "def initialize_parameters_deep(layer_dims):\n",
    "    parameters = {}\n",
    "    L = len(layer_dims) \n",
    "\n",
    "    for l in range(1, L):\n",
    "        \n",
    "        parameters[\"W\"+str(l)] = np.random.randn(layer_dims[l] , layer_dims[l-1])*0.01\n",
    "        parameters[\"b\"+str(l)] = np.zeros((layer_dims[l],1))\n",
    "\n",
    "        \n",
    "    return parameters"
   ]
  },
  {
   "cell_type": "code",
   "execution_count": 10,
   "id": "f9e07c8f",
   "metadata": {},
   "outputs": [
    {
     "name": "stdout",
     "output_type": "stream",
     "text": [
      "[0.77514955 0.11593805 0.03859242 0.07031998]\n"
     ]
    }
   ],
   "source": [
    "def softmax(Z):\n",
    "    A = np.exp(Z) / sum(np.exp(Z))\n",
    "    return A\n",
    "print(softmax([3.2,1.3,0.2,0.8]))"
   ]
  },
  {
   "cell_type": "code",
   "execution_count": 11,
   "id": "06c4ecb5",
   "metadata": {},
   "outputs": [],
   "source": [
    "def relu(Z):\n",
    "    \n",
    "    A = np.maximum(0,Z) \n",
    "    return A"
   ]
  },
  {
   "cell_type": "code",
   "execution_count": 12,
   "id": "4441ccb1",
   "metadata": {},
   "outputs": [],
   "source": [
    "def relu_backward(z):\n",
    "    z[z > 0] = 1\n",
    "    z[z < 0] = 0\n",
    "    return z"
   ]
  },
  {
   "cell_type": "code",
   "execution_count": 13,
   "id": "3a1c2015",
   "metadata": {},
   "outputs": [],
   "source": [
    "def one_hot(Y):\n",
    "    one_hot_Y = np.zeros((Y.size, Y.max() + 1))\n",
    "    one_hot_Y[np.arange(Y.size), Y] = 1\n",
    "    one_hot_Y = one_hot_Y.T\n",
    "    return one_hot_Y"
   ]
  },
  {
   "cell_type": "code",
   "execution_count": 14,
   "id": "d6957709",
   "metadata": {},
   "outputs": [],
   "source": [
    "def get_predictions(A3):\n",
    "    return np.argmax(A3, 0)\n",
    "\n",
    "def get_accuracy(predictions, Y):\n",
    "    print(predictions, Y)\n",
    "    return np.sum(predictions == Y) / Y.size"
   ]
  },
  {
   "cell_type": "code",
   "execution_count": 15,
   "id": "b4e27176",
   "metadata": {},
   "outputs": [],
   "source": [
    "def linear_forward(A, W, b):\n",
    "    Z = np.dot(W,A) + b\n",
    "    \n",
    "    return Z"
   ]
  },
  {
   "cell_type": "code",
   "execution_count": 16,
   "id": "b8452473",
   "metadata": {},
   "outputs": [],
   "source": [
    "def linear_activation_forward(A_prev, W, b, activation):\n",
    "   \n",
    "    if activation == \"softmax\":\n",
    "        Z = linear_forward(A_prev, W, b)\n",
    "        A = softmax(Z)\n",
    "    \n",
    "    elif activation == \"relu\":\n",
    "        Z  = linear_forward(A_prev, W, b)\n",
    "        A  = relu(Z)\n",
    "\n",
    "    return A, Z"
   ]
  },
  {
   "cell_type": "code",
   "execution_count": 17,
   "id": "e8029d95",
   "metadata": {},
   "outputs": [],
   "source": [
    "def model_forward(X, W1, b1, W2, b2, W3, b3):\n",
    "    \n",
    "    A1, Z1 = linear_activation_forward(X, W1, b1, activation = \"relu\")\n",
    "    A2, Z2 = linear_activation_forward(A1, W2, b2, activation = \"relu\")\n",
    "    A3, Z3 = linear_activation_forward(A2, W3, b3, activation = \"softmax\")\n",
    "          \n",
    "    return A3, A2, A1, Z1, Z2, Z3"
   ]
  },
  {
   "cell_type": "code",
   "execution_count": 18,
   "id": "958e2af5",
   "metadata": {},
   "outputs": [],
   "source": [
    "def model_backwards(A3, A2, A1, W3, W2, Z1, Z2, X, Y, m) :\n",
    "    \n",
    "    dZ3 = A3 - one_hot(Y)\n",
    "    dW3 = np.dot(dZ3,A2.T)/m\n",
    "    db3 = 1 / m * np.sum(dZ3)\n",
    "    dA2 = np.dot(W3.T,dZ3)\n",
    "    dZ2 = dA2 * relu_backward(Z2)\n",
    "    dW2 = np.dot(dZ2,A1.T)/m\n",
    "    db2 = 1 / m * np.sum(dZ2)\n",
    "    dA1 = np.dot(W2.T,dZ2)\n",
    "    dZ1 = dA1 * relu_backward(Z1)\n",
    "    dW1 = np.dot(dZ1,X.T)/m\n",
    "    db1 = 1 / m * np.sum(dZ1)\n",
    "    \n",
    "    return dW3, dW2, dW1, db3, db2, db1"
   ]
  },
  {
   "cell_type": "code",
   "execution_count": 20,
   "id": "ee811b5c",
   "metadata": {},
   "outputs": [],
   "source": [
    "def update_parameters(W1, b1, W2, b2, W3, b3, dW3, dW2, dW1, db3, db2, db1, learning_rate):\n",
    "\n",
    "    W1 = W1 - learning_rate*dW1\n",
    "    W2 = W2 - learning_rate*dW2\n",
    "    W3 = W3 - learning_rate*dW3\n",
    "    b1 = b1 - learning_rate*db1\n",
    "    b2 = b2 - learning_rate*db2\n",
    "    b3 = b3 - learning_rate*db3\n",
    "    \n",
    "    return W1, b1, W2, b2, W3, b3"
   ]
  },
  {
   "cell_type": "code",
   "execution_count": 22,
   "id": "9c7bd8ca",
   "metadata": {},
   "outputs": [],
   "source": [
    "def model(X,Y,layers_dims, learning_rate, num_iterations):\n",
    "    m = X.shape[1]\n",
    "    parameters = initialize_parameters_deep(layers_dims)\n",
    "    W1 = parameters[\"W1\"]\n",
    "    b1 = parameters[\"b1\"]\n",
    "    W2 = parameters[\"W2\"]\n",
    "    b2 = parameters[\"b2\"]\n",
    "    W3 = parameters[\"W3\"]\n",
    "    b3 = parameters[\"b3\"]\n",
    "\n",
    "    \n",
    "    for i in range(1, num_iterations+1):\n",
    "        A3, A2, A1, Z1, Z2, Z3 = model_forward(X, W1, b1, W2, b2, W3, b3)\n",
    "        dW3, dW2, dW1, db3, db2, db1 = model_backwards(A3, A2, A1, W3, W2,Z1,Z2, X, Y, m)\n",
    "        W1, b1, W2, b2, W3, b3 = update_parameters(W1, b1, W2, b2, W3, b3, dW3, dW2, dW1, db3, db2, db1, learning_rate)\n",
    "        if i % 10 == 0:\n",
    "            print(\"Iteration: \", i)\n",
    "            predictions = get_predictions(A3)\n",
    "            print(get_accuracy(predictions, Y))\n",
    "            \n",
    "    return W1, b1, W2, b2, W3, b3"
   ]
  },
  {
   "cell_type": "code",
   "execution_count": 23,
   "id": "9daf09b0",
   "metadata": {},
   "outputs": [
    {
     "name": "stdout",
     "output_type": "stream",
     "text": [
      "Iteration:  10\n",
      "[7 7 6 ... 7 7 4] [1 5 1 ... 7 6 9]\n",
      "0.12809756097560976\n",
      "Iteration:  20\n",
      "[7 7 6 ... 7 7 0] [1 5 1 ... 7 6 9]\n",
      "0.12663414634146342\n",
      "Iteration:  30\n",
      "[7 6 6 ... 7 6 8] [1 5 1 ... 7 6 9]\n",
      "0.14721951219512194\n",
      "Iteration:  40\n",
      "[3 6 3 ... 6 6 2] [1 5 1 ... 7 6 9]\n",
      "0.15529268292682927\n",
      "Iteration:  50\n",
      "[0 0 0 ... 6 6 4] [1 5 1 ... 7 6 9]\n",
      "0.29004878048780486\n",
      "Iteration:  60\n",
      "[0 0 0 ... 6 0 4] [1 5 1 ... 7 6 9]\n",
      "0.2624390243902439\n",
      "Iteration:  70\n",
      "[1 3 1 ... 7 6 4] [1 5 1 ... 7 6 9]\n",
      "0.4430487804878049\n",
      "Iteration:  80\n",
      "[2 6 2 ... 7 6 7] [1 5 1 ... 7 6 9]\n",
      "0.19458536585365854\n",
      "Iteration:  90\n",
      "[1 1 1 ... 0 0 4] [1 5 1 ... 7 6 9]\n",
      "0.3804390243902439\n",
      "Iteration:  100\n",
      "[1 1 1 ... 9 6 4] [1 5 1 ... 7 6 9]\n",
      "0.28929268292682925\n",
      "Iteration:  110\n",
      "[1 1 1 ... 4 6 4] [1 5 1 ... 7 6 9]\n",
      "0.4617317073170732\n",
      "Iteration:  120\n",
      "[1 8 1 ... 4 6 4] [1 5 1 ... 7 6 9]\n",
      "0.5464634146341464\n",
      "Iteration:  130\n",
      "[1 1 1 ... 4 6 4] [1 5 1 ... 7 6 9]\n",
      "0.47468292682926827\n",
      "Iteration:  140\n",
      "[1 8 1 ... 4 6 4] [1 5 1 ... 7 6 9]\n",
      "0.5619756097560976\n",
      "Iteration:  150\n",
      "[1 8 1 ... 4 6 4] [1 5 1 ... 7 6 9]\n",
      "0.5552439024390244\n",
      "Iteration:  160\n",
      "[1 8 1 ... 5 6 4] [1 5 1 ... 7 6 9]\n",
      "0.6769268292682927\n",
      "Iteration:  170\n",
      "[1 8 1 ... 9 6 4] [1 5 1 ... 7 6 9]\n",
      "0.7214146341463414\n",
      "Iteration:  180\n",
      "[1 8 1 ... 7 6 4] [1 5 1 ... 7 6 9]\n",
      "0.7877804878048781\n",
      "Iteration:  190\n",
      "[1 8 1 ... 7 6 4] [1 5 1 ... 7 6 9]\n",
      "0.7645365853658537\n",
      "Iteration:  200\n",
      "[1 8 1 ... 7 6 9] [1 5 1 ... 7 6 9]\n",
      "0.7674634146341464\n",
      "Iteration:  210\n",
      "[1 8 1 ... 7 6 4] [1 5 1 ... 7 6 9]\n",
      "0.7352682926829268\n",
      "Iteration:  220\n",
      "[1 8 1 ... 7 6 4] [1 5 1 ... 7 6 9]\n",
      "0.7460487804878049\n",
      "Iteration:  230\n",
      "[1 8 1 ... 7 6 4] [1 5 1 ... 7 6 9]\n",
      "0.7644634146341464\n",
      "Iteration:  240\n",
      "[1 8 1 ... 7 6 4] [1 5 1 ... 7 6 9]\n",
      "0.7800731707317073\n",
      "Iteration:  250\n",
      "[2 5 2 ... 7 6 7] [1 5 1 ... 7 6 9]\n",
      "0.4924390243902439\n",
      "Iteration:  260\n",
      "[1 8 1 ... 7 6 9] [1 5 1 ... 7 6 9]\n",
      "0.8544878048780488\n",
      "Iteration:  270\n",
      "[1 8 1 ... 7 6 9] [1 5 1 ... 7 6 9]\n",
      "0.7258292682926829\n",
      "Iteration:  280\n",
      "[1 8 1 ... 7 6 9] [1 5 1 ... 7 6 9]\n",
      "0.7884878048780488\n",
      "Iteration:  290\n",
      "[1 8 1 ... 7 6 9] [1 5 1 ... 7 6 9]\n",
      "0.853\n",
      "Iteration:  300\n",
      "[1 8 1 ... 7 6 9] [1 5 1 ... 7 6 9]\n",
      "0.8427560975609756\n",
      "Iteration:  310\n",
      "[1 8 1 ... 7 6 9] [1 5 1 ... 7 6 9]\n",
      "0.8396585365853658\n",
      "Iteration:  320\n",
      "[1 8 1 ... 7 6 9] [1 5 1 ... 7 6 9]\n",
      "0.8456829268292683\n",
      "Iteration:  330\n",
      "[1 8 1 ... 7 6 9] [1 5 1 ... 7 6 9]\n",
      "0.8707560975609756\n",
      "Iteration:  340\n",
      "[1 8 1 ... 7 6 9] [1 5 1 ... 7 6 9]\n",
      "0.864\n",
      "Iteration:  350\n",
      "[1 8 1 ... 7 6 9] [1 5 1 ... 7 6 9]\n",
      "0.8793170731707317\n",
      "Iteration:  360\n",
      "[1 8 1 ... 7 6 9] [1 5 1 ... 7 6 9]\n",
      "0.8838292682926829\n",
      "Iteration:  370\n",
      "[1 8 1 ... 7 6 9] [1 5 1 ... 7 6 9]\n",
      "0.8319024390243902\n",
      "Iteration:  380\n",
      "[1 8 1 ... 7 6 9] [1 5 1 ... 7 6 9]\n",
      "0.887390243902439\n",
      "Iteration:  390\n",
      "[1 8 1 ... 7 6 9] [1 5 1 ... 7 6 9]\n",
      "0.8799024390243902\n",
      "Iteration:  400\n",
      "[1 8 1 ... 7 6 9] [1 5 1 ... 7 6 9]\n",
      "0.8869512195121951\n",
      "Iteration:  410\n",
      "[1 8 1 ... 7 6 9] [1 5 1 ... 7 6 9]\n",
      "0.8906829268292683\n",
      "Iteration:  420\n",
      "[1 8 1 ... 7 6 9] [1 5 1 ... 7 6 9]\n",
      "0.8630243902439024\n",
      "Iteration:  430\n",
      "[1 8 1 ... 7 6 9] [1 5 1 ... 7 6 9]\n",
      "0.8939024390243903\n",
      "Iteration:  440\n",
      "[1 8 1 ... 7 6 9] [1 5 1 ... 7 6 9]\n",
      "0.8783414634146341\n",
      "Iteration:  450\n",
      "[1 8 1 ... 7 6 9] [1 5 1 ... 7 6 9]\n",
      "0.8950975609756098\n",
      "Iteration:  460\n",
      "[1 8 1 ... 7 6 9] [1 5 1 ... 7 6 9]\n",
      "0.8972926829268293\n",
      "Iteration:  470\n",
      "[1 8 1 ... 7 6 9] [1 5 1 ... 7 6 9]\n",
      "0.8950975609756098\n",
      "Iteration:  480\n",
      "[1 8 1 ... 7 6 9] [1 5 1 ... 7 6 9]\n",
      "0.8815365853658537\n",
      "Iteration:  490\n",
      "[1 8 1 ... 7 6 9] [1 5 1 ... 7 6 9]\n",
      "0.900390243902439\n",
      "Iteration:  500\n",
      "[1 8 1 ... 7 6 9] [1 5 1 ... 7 6 9]\n",
      "0.9000487804878049\n"
     ]
    }
   ],
   "source": [
    "W1, b1, W2, b2, W3, b3 = model(X_train, Y_train, layers_dims, learning_rate = 0.01, num_iterations = 500)"
   ]
  },
  {
   "cell_type": "code",
   "execution_count": 24,
   "id": "84a96a5f",
   "metadata": {},
   "outputs": [],
   "source": [
    "def make_predictions(X, W1, b1, W2, b2, W3, b3):\n",
    "    A3, A2, A1, Z1, Z2, Z3 = model_forward(X, W1, b1, W2, b2, W3, b3)\n",
    "    predictions = get_predictions(A3)\n",
    "    return predictions\n",
    "\n",
    "def test_prediction(index, W1, b1, W2, b2, W3, b3):\n",
    "    current_image = X_train[:, index, None]\n",
    "    prediction = make_predictions(X_train[:, index, None],W1, b1, W2, b2, W3, b3)\n",
    "    label = Y_train[index]\n",
    "    print(\"Prediction: \", prediction)\n",
    "    print(\"Label: \", label)\n",
    "    \n",
    "    current_image = current_image.reshape((28, 28)) * 255\n",
    "    plt.gray()\n",
    "    plt.imshow(current_image, interpolation='nearest')\n",
    "    plt.show()"
   ]
  },
  {
   "cell_type": "code",
   "execution_count": 34,
   "id": "dfd1aaed",
   "metadata": {
    "scrolled": true
   },
   "outputs": [
    {
     "name": "stdout",
     "output_type": "stream",
     "text": [
      "Prediction:  [8]\n",
      "Label:  5\n"
     ]
    },
    {
     "data": {
      "image/png": "[encoded data removed]",
      "text/plain": [
       "<Figure size 432x288 with 1 Axes>"
      ]
     },
     "metadata": {
      "needs_background": "light"
     },
     "output_type": "display_data"
    }
   ],
   "source": [
    "test_prediction(1, W1, b1, W2, b2, W3, b3)"
   ]
  }
 ],
 "metadata": {
  "kernelspec": {
   "display_name": "Python 3 (ipykernel)",
   "language": "python",
   "name": "python3"
  },
  "language_info": {
   "codemirror_mode": {
    "name": "ipython",
    "version": 3
   },
   "file_extension": ".py",
   "mimetype": "text/x-python",
   "name": "python",
   "nbconvert_exporter": "python",
   "pygments_lexer": "ipython3",
   "version": "3.9.12"
  }
 },
 "nbformat": 4,
 "nbformat_minor": 5
}
